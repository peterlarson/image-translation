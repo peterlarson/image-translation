{
 "cells": [
  {
   "cell_type": "code",
   "execution_count": 8,
   "metadata": {
    "collapsed": false
   },
   "outputs": [],
   "source": [
    "import tensorflow as tf\n",
    "import pandas as pd\n",
    "import numpy as np\n",
    "import matplotlib.pyplot as plt\n",
    "%matplotlib inline\n",
    "from sklearn.preprocessing import scale\n",
    "import scipy.ndimage"
   ]
  },
  {
   "cell_type": "code",
   "execution_count": 9,
   "metadata": {
    "collapsed": false
   },
   "outputs": [],
   "source": [
    "'''Data was the same data that was used for the notMNIST lesson'''\n",
    "\n",
    "labels = np.load(\"../data/notMNIST/train_labels.npy\")\n",
    "train_images = np.load(\"../data/notMNIST/train_images.npy\")\n",
    "test_images = np.load(\"../data/notMNIST/test_images.npy\")\n",
    "label_names = np.array(['A','B','C','D','E','F','G','H','I','J'])"
   ]
  },
  {
   "cell_type": "code",
   "execution_count": 10,
   "metadata": {
    "collapsed": false
   },
   "outputs": [],
   "source": [
    "def get_image_and_label(image_number):\n",
    "    plt.matshow(train_images[image_number], cmap=plt.cm.gray)\n",
    "    print(label_names[labels[image_number]])\n",
    "\n",
    "def show_image(image):\n",
    "        plt.matshow(image, cmap=plt.cm.gray)"
   ]
  },
  {
   "cell_type": "code",
   "execution_count": 11,
   "metadata": {
    "collapsed": false
   },
   "outputs": [
    {
     "data": {
      "text/plain": [
       "'\\nThis code shows what the effect of these scaling functions is. Tensorflow actually has image scaling built in as well. \\nprint(\"Origional image\")\\nshow_image(train_images[0])\\nprint(\"Downscaled by 1/2\")\\nshow_image(scipy.ndimage.zoom(train_images[0],.5))\\nprint(\"Upscaled back to origional\")\\nshow_image(scipy.ndimage.zoom(scipy.ndimage.zoom(train_images[0],.5),2))\\n'"
      ]
     },
     "execution_count": 11,
     "metadata": {},
     "output_type": "execute_result"
    }
   ],
   "source": [
    "'''\n",
    "This code shows what the effect of these scaling functions is. Tensorflow actually has image scaling built in as well. \n",
    "print(\"Origional image\")\n",
    "show_image(train_images[0])\n",
    "print(\"Downscaled by 1/2\")\n",
    "show_image(scipy.ndimage.zoom(train_images[0],.5))\n",
    "print(\"Upscaled back to origional\")\n",
    "show_image(scipy.ndimage.zoom(scipy.ndimage.zoom(train_images[0],.5),2))\n",
    "'''"
   ]
  },
  {
   "cell_type": "code",
   "execution_count": 12,
   "metadata": {
    "collapsed": false
   },
   "outputs": [
    {
     "name": "stdout",
     "output_type": "stream",
     "text": [
      "(100, 14, 14)\n",
      "(100, 28, 28)\n"
     ]
    }
   ],
   "source": [
    "'''This code creates downscaled datasets that can be used for training. \n",
    "\n",
    "'''\n",
    "downscaled_train = np.array([scipy.ndimage.zoom(i,.5,mode='nearest') for i in train_images])\n",
    "downscaled_test = np.array([scipy.ndimage.zoom(i,.5,mode='nearest') for i in test_images])\n",
    "print(downscaled_train.shape)\n",
    "print(train_images.shape)"
   ]
  },
  {
   "cell_type": "code",
   "execution_count": 13,
   "metadata": {
    "collapsed": false
   },
   "outputs": [],
   "source": [
    "'''\n",
    "Model 3\n",
    "\n",
    "Uses convolution\n",
    "'''\n",
    "def weight_variable(shape):\n",
    "  initial = tf.truncated_normal(shape, stddev=0.1)\n",
    "  return tf.Variable(initial)\n",
    "\n",
    "def bias_variable(shape):\n",
    "  initial = tf.constant(0.1, shape=shape)\n",
    "  return tf.Variable(initial)\n",
    "\n",
    "def conv2d(x, W, stride_input = [1, 2, 2, 1]):\n",
    "  return tf.nn.conv2d(x, W, strides = stride_input, padding='SAME')\n",
    "\n",
    "def max_pool_2x2(x):\n",
    "  return tf.nn.max_pool(x, ksize=[1, 2, 2, 1],\n",
    "                        strides=[1, 2, 2, 1], padding='SAME')\n",
    "\n",
    "small_train = tf.placeholder('float32', shape = [None, 14, 14])\n",
    "large_train = tf.placeholder('float32', shape = [None, 28, 28])\n",
    "\n",
    "small_train_flattened = tf.reshape(small_train,[-1,14*14])\n",
    "large_train_flattened = tf.reshape(large_train,[-1,28*28])\n",
    "\n",
    "reshaped_to_image_format = tf.reshape(small_train,[-1,14,14,1])\n",
    "\n",
    "n_1 = 32\n",
    "n_2 = 16\n",
    "#n_3 = \n",
    "\n",
    "w_conv1 = weight_variable([2,2,1,n_1]) #7\n",
    "b_conv1 = bias_variable([n_1])\n",
    "h_conv1 = tf.nn.relu(conv2d(reshaped_to_image_format, w_conv1, stride_input = [1, 1, 1, 1]) + b_conv1)\n",
    "\n",
    "\n",
    "w_conv2 = weight_variable([1,1,n_1,n_2]) #7\n",
    "b_conv2 = bias_variable([n_2])\n",
    "h_conv2 = tf.nn.relu(conv2d(h_conv1, w_conv2, stride_input = [1, 1, 1, 1]) + b_conv2)\n",
    "\n",
    "\n",
    "w_conv_inv1 = weight_variable([4,4,1,n_2])\n",
    "#b_conv_inv1 =\n",
    "h_conv_inv1 = tf.nn.conv2d_transpose(h_conv2, w_conv_inv1, [100,28,28,1], [1,2,2,1])\n",
    "\n",
    "final = tf.nn.tanh(h_conv_inv1)\n",
    "\n",
    "prediction = tf.reshape(final,[-1,28*28])\n",
    "\n",
    "#h_pool1 = max_pool_2x2(h_conv1)\n",
    "\n",
    "#Decision layer\n",
    "#w = tf.Variable(tf.truncated_normal([14*14, 28*28]))\n",
    "#b = tf.Variable(tf.truncated_normal([1,28*28]))\n",
    "#prediction = tf.matmul(small_train_flattened,w)+b\n",
    "\n",
    "\n",
    "#Loss / prediction / optimization etc. \n",
    "MSE = tf.reduce_mean(tf.square(prediction - large_train_flattened))\n",
    "pred = tf.reshape(prediction,[-1,28,28])\n",
    "optimizer = tf.train.AdamOptimizer().minimize(MSE)\n",
    "\n",
    "init = tf.initialize_all_variables()"
   ]
  },
  {
   "cell_type": "code",
   "execution_count": 14,
   "metadata": {
    "collapsed": false
   },
   "outputs": [],
   "source": [
    "sess = tf.Session()\n",
    "sess.run(init)"
   ]
  },
  {
   "cell_type": "code",
   "execution_count": 15,
   "metadata": {
    "collapsed": false
   },
   "outputs": [
    {
     "name": "stdout",
     "output_type": "stream",
     "text": [
      "step = 0     MSE = 0.211666   Test MSE = 0.209942  \n",
      "step = 1000  MSE = 0.019980   Test MSE = 0.021208  \n",
      "step = 2000  MSE = 0.016998   Test MSE = 0.018676  \n",
      "step = 3000  MSE = 0.015972   Test MSE = 0.017660  \n",
      "Done!\n"
     ]
    }
   ],
   "source": [
    "MAXSTEPS = 3001\n",
    "for step in range(MAXSTEPS):\n",
    "    (_,mse) = sess.run([optimizer,MSE],feed_dict = {small_train: downscaled_train, large_train: train_images})\n",
    "    if (step % 1000) == 0:\n",
    "        test_mse = sess.run(MSE, feed_dict = {small_train: downscaled_test, large_train: test_images})\n",
    "        print('step = %-5d MSE = %-10f Test MSE = %-10f' % (step,mse,test_mse))\n",
    "print(\"Done!\")"
   ]
  },
  {
   "cell_type": "code",
   "execution_count": 16,
   "metadata": {
    "collapsed": false
   },
   "outputs": [
    {
     "data": {
      "image/png": "[encoded data removed]",
      "text/plain": [
       "<matplotlib.figure.Figure at 0x7f08a76446d8>"
      ]
     },
     "metadata": {},
     "output_type": "display_data"
    },
    {
     "data": {
      "image/png": "[encoded data removed]",
      "text/plain": [
       "<matplotlib.figure.Figure at 0x7f08a7644748>"
      ]
     },
     "metadata": {},
     "output_type": "display_data"
    },
    {
     "data": {
      "image/png": "[encoded data removed]",
      "text/plain": [
       "<matplotlib.figure.Figure at 0x7f08a04ae710>"
      ]
     },
     "metadata": {},
     "output_type": "display_data"
    }
   ],
   "source": [
    "test_pred = sess.run(pred, feed_dict = {small_train: downscaled_test})\n",
    "train_pred = sess.run(pred, feed_dict = {small_train: downscaled_train})\n",
    "to_show = 7\n",
    "show_image(downscaled_test[to_show])\n",
    "show_image(test_pred[to_show])\n",
    "show_image(test_images[to_show])"
   ]
  },
  {
   "cell_type": "code",
   "execution_count": null,
   "metadata": {
    "collapsed": false
   },
   "outputs": [],
   "source": []
  },
  {
   "cell_type": "code",
   "execution_count": null,
   "metadata": {
    "collapsed": false
   },
   "outputs": [],
   "source": []
  },
  {
   "cell_type": "code",
   "execution_count": null,
   "metadata": {
    "collapsed": false
   },
   "outputs": [],
   "source": []
  },
  {
   "cell_type": "code",
   "execution_count": null,
   "metadata": {
    "collapsed": true
   },
   "outputs": [],
   "source": []
  },
  {
   "cell_type": "code",
   "execution_count": null,
   "metadata": {
    "collapsed": true
   },
   "outputs": [],
   "source": []
  },
  {
   "cell_type": "code",
   "execution_count": null,
   "metadata": {
    "collapsed": false
   },
   "outputs": [],
   "source": []
  },
  {
   "cell_type": "code",
   "execution_count": null,
   "metadata": {
    "collapsed": false
   },
   "outputs": [],
   "source": []
  },
  {
   "cell_type": "code",
   "execution_count": null,
   "metadata": {
    "collapsed": false,
    "scrolled": false
   },
   "outputs": [],
   "source": []
  },
  {
   "cell_type": "code",
   "execution_count": null,
   "metadata": {
    "collapsed": false
   },
   "outputs": [],
   "source": []
  },
  {
   "cell_type": "code",
   "execution_count": null,
   "metadata": {
    "collapsed": false
   },
   "outputs": [],
   "source": []
  },
  {
   "cell_type": "code",
   "execution_count": null,
   "metadata": {
    "collapsed": false
   },
   "outputs": [],
   "source": []
  },
  {
   "cell_type": "code",
   "execution_count": null,
   "metadata": {
    "collapsed": false
   },
   "outputs": [],
   "source": []
  },
  {
   "cell_type": "code",
   "execution_count": null,
   "metadata": {
    "collapsed": false
   },
   "outputs": [],
   "source": []
  },
  {
   "cell_type": "code",
   "execution_count": null,
   "metadata": {
    "collapsed": false
   },
   "outputs": [],
   "source": []
  },
  {
   "cell_type": "code",
   "execution_count": null,
   "metadata": {
    "collapsed": false
   },
   "outputs": [],
   "source": []
  },
  {
   "cell_type": "code",
   "execution_count": null,
   "metadata": {
    "collapsed": true
   },
   "outputs": [],
   "source": []
  }
 ],
 "metadata": {
  "anaconda-cloud": {},
  "kernelspec": {
   "display_name": "Python [conda env:tensorflow]",
   "language": "python",
   "name": "conda-env-tensorflow-py"
  },
  "language_info": {
   "codemirror_mode": {
    "name": "ipython",
    "version": 3
   },
   "file_extension": ".py",
   "mimetype": "text/x-python",
   "name": "python",
   "nbconvert_exporter": "python",
   "pygments_lexer": "ipython3",
   "version": "3.5.2"
  }
 },
 "nbformat": 4,
 "nbformat_minor": 1
}
