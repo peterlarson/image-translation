{
 "cells": [
  {
   "cell_type": "code",
   "execution_count": 1,
   "metadata": {
    "collapsed": false
   },
   "outputs": [],
   "source": [
    "import numpy as np\n",
    "from scipy import ndimage\n",
    "import matplotlib.pyplot as plt\n",
    "%matplotlib inline\n",
    "from os import listdir\n",
    "from collections import namedtuple\n",
    "#has package pillow as a dependency. Is needed to give scipy image operations. \n",
    "from scipy import misc\n",
    "import scipy"
   ]
  },
  {
   "cell_type": "code",
   "execution_count": 11,
   "metadata": {
    "collapsed": false
   },
   "outputs": [],
   "source": [
    "'''Load data'''\n",
    "\n",
    "IMAGE_FOLDER = \"../../data/anime wallpapers/png\"\n",
    "image_names = listdir(IMAGE_FOLDER)\n",
    "image_paths = [IMAGE_FOLDER + '/' + name for name in image_names]"
   ]
  },
  {
   "cell_type": "code",
   "execution_count": 12,
   "metadata": {
    "collapsed": false
   },
   "outputs": [
    {
     "data": {
      "text/plain": [
       "1225"
      ]
     },
     "execution_count": 12,
     "metadata": {},
     "output_type": "execute_result"
    }
   ],
   "source": [
    "len(image_names)"
   ]
  },
  {
   "cell_type": "code",
   "execution_count": 14,
   "metadata": {
    "collapsed": false
   },
   "outputs": [],
   "source": [
    "RESIZED_FOLDER = \"../../data/anime wallpapers/64_64\"\n"
   ]
  },
  {
   "cell_type": "code",
   "execution_count": 21,
   "metadata": {
    "collapsed": false
   },
   "outputs": [
    {
     "name": "stdout",
     "output_type": "stream",
     "text": [
      "At index: 0 Hits: 0\n"
     ]
    }
   ],
   "source": [
    "hits = 0\n",
    "for i in range(len(image_paths)):\n",
    "    if( i % 10000 == 0):\n",
    "        print(\"At index: \"+str(i)+\" Hits: \"+str(hits))\n",
    "    path = image_paths[i]\n",
    "    name = image_names[i]\n",
    "    image = scipy.misc.imread(path)\n",
    "    \n",
    "    if(image.shape[0] >= 64 and image.shape[1] >= 64):\n",
    "        hits = hits + 1\n",
    "        resized = image[100:100+64*6,100:100+64*6]\n",
    "        resized = scipy.misc.imresize(resized,[64,64])\n",
    "    \n",
    "        misc.imsave(RESIZED_FOLDER+\"/\"+str(i)+\".png\", resized)"
   ]
  },
  {
   "cell_type": "code",
   "execution_count": 6,
   "metadata": {
    "collapsed": false
   },
   "outputs": [
    {
     "data": {
      "text/plain": [
       "630"
      ]
     },
     "execution_count": 6,
     "metadata": {},
     "output_type": "execute_result"
    }
   ],
   "source": [
    "hits"
   ]
  },
  {
   "cell_type": "code",
   "execution_count": null,
   "metadata": {
    "collapsed": true
   },
   "outputs": [],
   "source": []
  },
  {
   "cell_type": "code",
   "execution_count": null,
   "metadata": {
    "collapsed": true
   },
   "outputs": [],
   "source": []
  },
  {
   "cell_type": "code",
   "execution_count": null,
   "metadata": {
    "collapsed": true
   },
   "outputs": [],
   "source": []
  }
 ],
 "metadata": {
  "anaconda-cloud": {},
  "kernelspec": {
   "display_name": "Python [Root]",
   "language": "python",
   "name": "Python [Root]"
  },
  "language_info": {
   "codemirror_mode": {
    "name": "ipython",
    "version": 3
   },
   "file_extension": ".py",
   "mimetype": "text/x-python",
   "name": "python",
   "nbconvert_exporter": "python",
   "pygments_lexer": "ipython3",
   "version": "3.5.2"
  }
 },
 "nbformat": 4,
 "nbformat_minor": 1
}
