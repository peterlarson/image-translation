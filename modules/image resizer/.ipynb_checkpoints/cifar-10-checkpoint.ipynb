{
 "cells": [
  {
   "cell_type": "code",
   "execution_count": 12,
   "metadata": {
    "collapsed": false,
    "deletable": true,
    "editable": true
   },
   "outputs": [],
   "source": [
    "import numpy as np\n",
    "from scipy import ndimage\n",
    "#import matplotlib.pyplot as plt\n",
    "#%matplotlib inline\n",
    "from os import listdir\n",
    "from collections import namedtuple\n",
    "#has package pillow as a dependency. Is needed to give scipy image operations. \n",
    "from scipy import misc\n",
    "import scipy\n",
    "import pickle"
   ]
  },
  {
   "cell_type": "code",
   "execution_count": 13,
   "metadata": {
    "collapsed": true,
    "deletable": true,
    "editable": true
   },
   "outputs": [],
   "source": [
    "def unpickle(file):\n",
    "    fo = open(file, 'rb')\n",
    "    dict = pickle.load(fo)\n",
    "    fo.close()\n",
    "    return dict\n",
    "\n",
    "def extract_image(raw_data):\n",
    "    new_pic = np.zeros([32*32,3])\n",
    "\n",
    "    for i in range(0,32*32):\n",
    "        new_pic[i][0] = raw_data[i]\n",
    "        new_pic[i][1] = raw_data[i+32*32]\n",
    "        new_pic[i][2] = raw_data[i+2*32*32]\n",
    "\n",
    "    new_pic = np.reshape(new_pic, [32,32,3])\n",
    "    return new_pic"
   ]
  },
  {
   "cell_type": "code",
   "execution_count": 27,
   "metadata": {
    "collapsed": false,
    "deletable": true,
    "editable": true
   },
   "outputs": [],
   "source": [
    "'''Load data'''\n",
    "\n",
    "IMAGE_FOLDER = \"../../data/cifar_c\"\n",
    "OUTPUT_FOLDER = \"../../data/cifar_3\""
   ]
  },
  {
   "cell_type": "code",
   "execution_count": 25,
   "metadata": {
    "collapsed": false,
    "deletable": true,
    "editable": true
   },
   "outputs": [],
   "source": [
    "'''\n",
    "THIS PICKLE FILE DOES NOT WORK IN PYTHON 3. USE PYTHON 2\n",
    "\n",
    "\n",
    "'''\n",
    "\n",
    "\n",
    "\n",
    "\n",
    "batch_1 = unpickle(IMAGE_FOLDER+\"/data_batch_1\")\n",
    "batch_2 = unpickle(IMAGE_FOLDER+\"/data_batch_2\")\n",
    "batch_3 = unpickle(IMAGE_FOLDER+\"/data_batch_3\")\n",
    "batch_4 = unpickle(IMAGE_FOLDER+\"/data_batch_4\")\n",
    "batch_5 = unpickle(IMAGE_FOLDER+\"/data_batch_5\")\n",
    "\n",
    "data = np.concatenate([batch_1['data'],batch_2['data'],batch_3['data'],batch_4['data'],batch_5['data']])\n",
    "labels = np.concatenate([batch_1['labels'],batch_2['labels'],batch_3['labels'],batch_4['labels'],batch_5['labels']])"
   ]
  },
  {
   "cell_type": "code",
   "execution_count": 28,
   "metadata": {
    "collapsed": false,
    "deletable": true,
    "editable": true
   },
   "outputs": [],
   "source": [
    "print_index = 0\n",
    "for i in range(len(data)):\n",
    "    if(labels[i] == 3):\n",
    "        img = extract_image(data[i])\n",
    "        scipy.misc.imsave(OUTPUT_FOLDER+\"/\"+str(print_index) + \".png\", img)\n",
    "        print_index = print_index + 1"
   ]
  },
  {
   "cell_type": "code",
   "execution_count": 9,
   "metadata": {
    "collapsed": false,
    "deletable": true,
    "editable": true
   },
   "outputs": [],
   "source": [
    "pic = data['data'][0]\n"
   ]
  },
  {
   "cell_type": "code",
   "execution_count": 10,
   "metadata": {
    "collapsed": true,
    "deletable": true,
    "editable": true
   },
   "outputs": [],
   "source": []
  },
  {
   "cell_type": "code",
   "execution_count": 11,
   "metadata": {
    "collapsed": false,
    "deletable": true,
    "editable": true
   },
   "outputs": [],
   "source": [
    "scipy.misc.imsave(OUTPUT_FOLDER+\"/\"+str(1) + \".png\", new_pic)"
   ]
  },
  {
   "cell_type": "code",
   "execution_count": 7,
   "metadata": {
    "collapsed": false,
    "deletable": true,
    "editable": true
   },
   "outputs": [
    {
     "name": "stdout",
     "output_type": "stream",
     "text": [
      "At index: 0 Hits: 0\n",
      "At index: 10000 Hits: 0\n",
      "At index: 20000 Hits: 0\n",
      "At index: 30000 Hits: 0\n",
      "At index: 40000 Hits: 0\n",
      "At index: 50000 Hits: 0\n",
      "At index: 60000 Hits: 0\n",
      "At index: 70000 Hits: 0\n",
      "At index: 80000 Hits: 0\n",
      "At index: 90000 Hits: 0\n",
      "At index: 100000 Hits: 0\n",
      "At index: 110000 Hits: 0\n",
      "At index: 120000 Hits: 0\n",
      "At index: 130000 Hits: 0\n",
      "At index: 140000 Hits: 0\n",
      "At index: 150000 Hits: 0\n",
      "At index: 160000 Hits: 0\n",
      "At index: 170000 Hits: 0\n",
      "At index: 180000 Hits: 0\n",
      "At index: 190000 Hits: 0\n",
      "At index: 200000 Hits: 0\n"
     ]
    }
   ],
   "source": [
    "hits = 0\n",
    "for i in range(len(image_paths)):\n",
    "    if( i % 10000 == 0):\n",
    "        print(\"At index: \"+str(i)+\" Hits: \"+str(hits))\n",
    "    path = image_paths[i]\n",
    "    name = image_names[i]\n",
    "    image = scipy.misc.imread(path, flatten=True)\n",
    "    '''\n",
    "    if(image.shape[0] != 64 or image.shape[1] != 64):\n",
    "        hits = hits + 1\n",
    "        #resized = scipy.misc.imresize(image,[64,64])\n",
    "    '''\n",
    "    misc.imsave(RESIZED_FOLDER+\"/\"+str(i)+\".png\", image)"
   ]
  },
  {
   "cell_type": "code",
   "execution_count": 6,
   "metadata": {
    "collapsed": false,
    "deletable": true,
    "editable": true
   },
   "outputs": [
    {
     "data": {
      "text/plain": [
       "630"
      ]
     },
     "execution_count": 6,
     "metadata": {},
     "output_type": "execute_result"
    }
   ],
   "source": [
    "hits"
   ]
  },
  {
   "cell_type": "code",
   "execution_count": null,
   "metadata": {
    "collapsed": true,
    "deletable": true,
    "editable": true
   },
   "outputs": [],
   "source": []
  },
  {
   "cell_type": "code",
   "execution_count": null,
   "metadata": {
    "collapsed": true,
    "deletable": true,
    "editable": true
   },
   "outputs": [],
   "source": []
  },
  {
   "cell_type": "code",
   "execution_count": null,
   "metadata": {
    "collapsed": true,
    "deletable": true,
    "editable": true
   },
   "outputs": [],
   "source": []
  }
 ],
 "metadata": {
  "anaconda-cloud": {},
  "kernelspec": {
   "display_name": "Python 2",
   "language": "python",
   "name": "python2"
  },
  "language_info": {
   "codemirror_mode": {
    "name": "ipython",
    "version": 2
   },
   "file_extension": ".py",
   "mimetype": "text/x-python",
   "name": "python",
   "nbconvert_exporter": "python",
   "pygments_lexer": "ipython2",
   "version": "2.7.13"
  }
 },
 "nbformat": 4,
 "nbformat_minor": 1
}
