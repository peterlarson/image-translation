{
 "cells": [
  {
   "cell_type": "code",
   "execution_count": 1,
   "metadata": {
    "collapsed": false
   },
   "outputs": [],
   "source": [
    "import numpy as np\n",
    "from scipy import ndimage\n",
    "import matplotlib.pyplot as plt\n",
    "%matplotlib inline\n",
    "from os import listdir\n",
    "from collections import namedtuple\n",
    "#has package pillow as a dependency. Is needed to give scipy image operations. \n",
    "from scipy import misc\n",
    "import scipy"
   ]
  },
  {
   "cell_type": "code",
   "execution_count": 2,
   "metadata": {
    "collapsed": false
   },
   "outputs": [],
   "source": [
    "'''Load data'''\n",
    "\n",
    "IMAGE_FOLDER = \"../../data/64_celebA\"\n",
    "image_names = listdir(IMAGE_FOLDER)\n",
    "image_paths = [IMAGE_FOLDER + '/' + name for name in image_names]"
   ]
  },
  {
   "cell_type": "code",
   "execution_count": 3,
   "metadata": {
    "collapsed": false
   },
   "outputs": [
    {
     "data": {
      "text/plain": [
       "202599"
      ]
     },
     "execution_count": 3,
     "metadata": {},
     "output_type": "execute_result"
    }
   ],
   "source": [
    "len(image_names)"
   ]
  },
  {
   "cell_type": "code",
   "execution_count": 4,
   "metadata": {
    "collapsed": false
   },
   "outputs": [],
   "source": [
    "RESIZED_FOLDER = \"../../data/64_celebA_grey\"\n"
   ]
  },
  {
   "cell_type": "code",
   "execution_count": 5,
   "metadata": {
    "collapsed": false
   },
   "outputs": [
    {
     "name": "stdout",
     "output_type": "stream",
     "text": [
      "At index: 0 Hits: 0\n",
      "At index: 10000 Hits: 10000\n",
      "At index: 20000 Hits: 20000\n",
      "At index: 30000 Hits: 30000\n",
      "At index: 40000 Hits: 40000\n",
      "At index: 50000 Hits: 50000\n",
      "At index: 60000 Hits: 60000\n",
      "At index: 70000 Hits: 70000\n",
      "At index: 80000 Hits: 80000\n",
      "At index: 90000 Hits: 90000\n",
      "At index: 100000 Hits: 100000\n",
      "At index: 110000 Hits: 110000\n",
      "At index: 120000 Hits: 120000\n",
      "At index: 130000 Hits: 130000\n",
      "At index: 140000 Hits: 140000\n",
      "At index: 150000 Hits: 150000\n",
      "At index: 160000 Hits: 160000\n",
      "At index: 170000 Hits: 170000\n",
      "At index: 180000 Hits: 180000\n",
      "At index: 190000 Hits: 190000\n",
      "At index: 200000 Hits: 200000\n"
     ]
    }
   ],
   "source": [
    "hits = 0\n",
    "for i in range(len(image_paths)):\n",
    "    if( i % 10000 == 0):\n",
    "        print(\"At index: \"+str(i)+\" Hits: \"+str(hits))\n",
    "    path = image_paths[i]\n",
    "    name = image_names[i]\n",
    "    image = scipy.misc.imread(path, flatten=true)\n",
    "    if(image.shape[0] != 64 or image.shape[1] != 64):\n",
    "        hits = hits + 1\n",
    "        resized = scipy.misc.imresize(image,[64,64])\n",
    "        misc.imsave(RESIZED_FOLDER+\"/\"+str(i)+\".png\", resized)"
   ]
  },
  {
   "cell_type": "code",
   "execution_count": 6,
   "metadata": {
    "collapsed": false
   },
   "outputs": [
    {
     "data": {
      "text/plain": [
       "630"
      ]
     },
     "execution_count": 6,
     "metadata": {},
     "output_type": "execute_result"
    }
   ],
   "source": [
    "hits"
   ]
  },
  {
   "cell_type": "code",
   "execution_count": null,
   "metadata": {
    "collapsed": true
   },
   "outputs": [],
   "source": []
  },
  {
   "cell_type": "code",
   "execution_count": null,
   "metadata": {
    "collapsed": true
   },
   "outputs": [],
   "source": []
  },
  {
   "cell_type": "code",
   "execution_count": null,
   "metadata": {
    "collapsed": true
   },
   "outputs": [],
   "source": []
  }
 ],
 "metadata": {
  "anaconda-cloud": {},
  "kernelspec": {
   "display_name": "Python [Root]",
   "language": "python",
   "name": "Python [Root]"
  },
  "language_info": {
   "codemirror_mode": {
    "name": "ipython",
    "version": 3
   },
   "file_extension": ".py",
   "mimetype": "text/x-python",
   "name": "python",
   "nbconvert_exporter": "python",
   "pygments_lexer": "ipython3",
   "version": "3.5.2"
  }
 },
 "nbformat": 4,
 "nbformat_minor": 1
}
